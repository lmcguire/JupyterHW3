{
 "cells": [
  {
   "cell_type": "markdown",
   "metadata": {},
   "source": [
    "# Incision of the Collier lava flow\n",
    "\n",
    "### Overview\n",
    "What is the importance of frequent, low-magnitude events versus infrequent high-magnitude events in shaping the landscapes that we see today? This is a fundamental question in geomorphology. We will not answer this general question, but we will answer this question for a specific landscape. More specifically, we will focus on understanding the events that led to the incision of the Collier lava flow in Oregon. Our analysis will closely follow that done by Sweeney and Roering (2016, \"Rapid  fluvial incision of a late Holocene lava  flow: Insights from LiDAR, alluvial stratigraphy, and numerical modeling\"), but we will make some additional simplifying assumptions. In addition this more specific goal, we will learn how to estimate rates of sediment transport using channel geometry and stanard hydraulic relationships (e.g. Manning's equation).\n",
    "\n",
    "<img src=\"StudyOverview_SweenyFig1.jpg\" alt=\"Drawing\"/>\n",
    "\n",
    "Look at the figure above from Sweeney and Roering (2016). Collier Cone, a cinder cone, was formed roughly 1600 years ago along with the rest of the lava flow. __White Branch Creek (solid blue line), which begins immediately downstream of Collier Cone, has incised an average of 5 m deep into the lava flow over the last 1600 years__. White Branch Creek regularly flows in the spring when snow melts in the area, leading to relatively modest flows with depths of about 0.5 meters. Are these annual flows sufficient to have carved the channel that we see today? An alternative explanation is that White Branch Creek was incised by a small number of glacial lake outburst floods over the last 1600 years. Glacial lake outburst floods are floods that result from the failure of a dam containing a glacial lake. They can result in massive floods that produce flow depths and peak water discharges that greatly exceed those assocaited with floods produced from snow melt or rainfall. There is evidence that a glacial lake outburst flood occured in this area in 1942 so we know that they have happened at our study area in the past. Your analysis is desigend to determine which of these two scenarios (incision is mostly caused by annual snow melt events, or incision is mostly caused by glacial lake outburst floods) is most likely to have resulted in the creation of the channel (White Branch Creek) that we see today."
   ]
  },
  {
   "cell_type": "markdown",
   "metadata": {},
   "source": [
    "### Objectives\n",
    "1. Understanding relationships between flow magnitude and rates of sediment transport.\n",
    "2. Use channel geometry and Manning's equation to estimate flow velocity and discharge.\n",
    "3. Determine whether runoff from annual snow melt events is sufficient to have created White Branch Creek. If not, is the incision of this channel due to infrequent, high magnitude events such as glacial lake outburst floods?"
   ]
  },
  {
   "cell_type": "markdown",
   "metadata": {},
   "source": [
    "### Using Python Inside a Notebook\n",
    "\n",
    "Like we have done with previous homework assignments, we can use Python like a fancy calculator to make a basic computations. We are going to start off with a brief review since you will need to make more modifications to code cells during this assignment than you have in the past. Suppose we want to define two numbers and then have Python compute the product of those two numbers and tell us the answer. Click on the cell below and and then hit the \"run cell\" button. "
   ]
  },
  {
   "cell_type": "code",
   "execution_count": null,
   "metadata": {},
   "outputs": [],
   "source": [
    "import numpy as np\n",
    "x=9            # define a variable called x and set its value to 9\n",
    "y=4            # define a variable called y and set its value to 4\n",
    "a=x*y          # define a variable called a and set its value to the product of x and y\n",
    "\n",
    "print(a)       # Print the value of the variable \"a\" to the screen"
   ]
  },
  {
   "cell_type": "markdown",
   "metadata": {},
   "source": [
    "Once you run the code in the cell above you should see the output of the code appear immediately below the cell. The output will tell you that the value of *a* is 36, which is what we would expect since that is the product of 9 and 4. We can print multiple numbers to the screen if we are interested in know the result of several different computations, but we need to keep track of the order in which they are printed. Run the code block below to see an example."
   ]
  },
  {
   "cell_type": "code",
   "execution_count": null,
   "metadata": {},
   "outputs": [],
   "source": [
    "x=2             # define a variable called x and set its value to 2\n",
    "y=3             # define a variable called y and set its value to 3\n",
    "a=x*y           # define a variable called a and set its value to the product of x and y\n",
    "b=y**4          # define a variable called b and set its value to y raised to the 4th power\n",
    "\n",
    "print(a)\n",
    "print(b)"
   ]
  },
  {
   "cell_type": "markdown",
   "metadata": {},
   "source": [
    "The above code should produce print two different numbers: 6 and 81. The first number that is printed, 6, refers to the value of the variable a and the second value printed, 81, refers to the value of the variable b. This is because we issued the command _print(a)_ first and then issued the command _print(b)_. The values of these variables are printed in the same order. Also notice that b is defined as y raised the 4th power and that the syntax to accomplish this calculation is \"y**4\"."
   ]
  },
  {
   "cell_type": "markdown",
   "metadata": {},
   "source": [
    "### Using Manning's Equation to Estimate Flow Velocity\n",
    "\n",
    "Our ultimate goal is to determine what types of flow events (annual snow melt or glacial lake outburst floods) have contributed most to the incision of White Branch Creek. To accomplish that, we first need a method to esimate the hydrologic conditions (e.g. flow velocity, discharge) within the channel during those two types of events. Since rates of sediment detachment are related to hydrologic variables, estimating the flow conditions during a particular type of runoff event is a necessary first step to estimating the amount of erosion that would take place during that event. For example, the rate at which sediment is detached by overland flow on a hillslope is related to shear stress which is a function of flow depth! There are a number of different formulas used to estimate rates of erosion in channels and the best approach for estimating erosion will vary from place-to-place based on the erosion processes that are most common in that area. We will talk more about this as the semester goes on - just keep in mind that the approach we use here for estimating erosion rates in a channel may not translate directly to other settings. Regardless, to compute eroion rates we often need to know something about flow depth, discharge, and/or velocity.\n",
    "\n",
    "As a preiminary step to estimating erosion rates in White Branch Creek, we are going to tackle the simplified problem of computing the velocity of water flowing through a rectangular channel as depecited in the figure below. The figure below shows a cross section through a channel where the black line denotes the topographic surface and the blue line indicates the level of the water within the channel.\n",
    "\n",
    "<img src=\"RectangularChannelB.png\" alt=\"Drawing\"/>\n",
    "\n",
    "Before we look at any code, there are several important equations that you will need to know. We will use Manning's equation to compute flow velocity. To use Manning's equation, we need to compute the **hydraulic radius** ($R_h$), which is a function of the **wetted perimeter ($P$)** and the channel **cross sectional area** ($A$). The wetted perimeter ($P$) is defined as the perimeter of the channel cross section that is \"wet\" during the flow event that we are interested in. Both the **wetted perimeter and the cross sectional area will change depending on the channel geometry** (e.g. rectangular, triangular, trapezoidal, etc). The wetted perimeter of a rectangular channel can be computed using the equation \n",
    "\n",
    "$$P=b+2h$$\n",
    "\n",
    "where $b$ is the bottom width of the channel and $h$ is the flow depth. To convince yourself that this is the case, look at the figure above and notice that the perimeter of the channel that would be wet would be given by $b+h+h$ since the entire bottom and both sides of the channel (up to a height of $h$) would be \"wet.\" We also need to know the cross-sectional area of the channel. The cross-sectional area of a rectangular channel is given by \n",
    "\n",
    "$$A=bh$$\n",
    "\n",
    "The equation to compute hydraulic radius, for any channel geometry, is\n",
    "\n",
    "$$R_h=A/P$$\n",
    "\n",
    "Once the wetted perimeter is determined, we can compute flow velocity using Manning's equation as\n",
    "\n",
    "$$V=\\frac{1}{n}R_h^{2/3}S^{1/2}$$\n",
    "\n",
    "where $S$ is the channel slope and $n$ is called Manning's roughness coefficient (or Manning's $n$). In a very general sense, Manning's n describes the roughness of the surface. Typical values for Manning's $n$ can vary from $0.02$ to $0.5$. Small values of Manning's $n$ are associated with smooth surfaces, such as channels or hillslopes that are covered with very fine sediment and no vegetation, while large values of Manning's $n$ are associated with rough surfaces, such as channels that are filled with large boulders or have dense vegetation growing in them.\n",
    "\n",
    "The code below is designed to compute the flow velocity in a **rectangular channel** given the required information about the channel geometry (e.g. channel bottom width and flow depth), Manning's roughness coeffient ($n$), and a channel slope ($S$). It then performs the needed calculations, using the equations defined above, to compute the wetted perimeter, cross sectional area, hydraulic radius, and flow velocity. Read the code in the cell below and try to determine what the output will be. All of the variables, such as $b$ and $h$ have been set for you. Run the code to see if you are correct."
   ]
  },
  {
   "cell_type": "code",
   "execution_count": null,
   "metadata": {},
   "outputs": [],
   "source": [
    "# You do not need to modify anything in this code block\n",
    "\n",
    "b=5                                     # Channel bottom width [m]\n",
    "h=1                                     # Flow thickness [m]\n",
    "n=0.05                                  # Manning coefficient\n",
    "S=0.01                                  # Channel slope [-]\n",
    "\n",
    "P=b+2*h                                 # Wetted perimeter [m]\n",
    "A=b*h                                   # Cross-sectional area of the flow [m^2]\n",
    "Rh=A/P                                  # Hydraulic radius = Area / Wetted Perimeter [m]\n",
    "V=1/n*Rh**(2/3)*S**(1/2)                # Flow velocity based on Manning's equation [m/s]\n",
    "\n",
    "print(round(V,1))"
   ]
  },
  {
   "cell_type": "markdown",
   "metadata": {},
   "source": [
    "The first four lines of code in the above cell define variables that are used in the last four lines to compute the flow velocity using Manning's equation. You should see that the velocity of the flow is roughly 1.6 m/s. Notice that, although Python has made several computations, it only displays the value of V at the end because that is the only variable that we printed to the screen using the \"print\" command. This was done on purpose because we only want to know the final answer, namely the flow velocity, and are not interested in the results of the intermediate computations."
   ]
  },
  {
   "cell_type": "markdown",
   "metadata": {},
   "source": [
    "### Modifying code cells\n",
    "\n",
    "The code in the cell below is the same as the code above that we used to compute the flow velocity for our hypothetical rectangular channel. Let's play around with some of the parameter values, such as the Manning coefficient to see how differences in those parameters will influence our computed flow velocity. **Change the Manning coefficient in the code block below to 0.03. Run the code again with this new value for $n$.** Recall that a lower Manning coefficient is associated with smoother surfaces and therefore with less hydraulic resistance so the flow velocity should be greater when the Manning coefficient is reduced (assuming all other factors remain the same). Verify that the the flow velocity does increase as you would expect when the Manning coefficient is reduced."
   ]
  },
  {
   "cell_type": "code",
   "execution_count": null,
   "metadata": {},
   "outputs": [],
   "source": [
    "b=5                                     # Channel bottom width [m]\n",
    "h=1                                     # Channel height [m]\n",
    "n=0.05                                  # Manning coefficient\n",
    "S=0.01                                  # Channel slope [-]\n",
    "\n",
    "P=b+2*h                                 # Wetted perimeter [m]\n",
    "A=b*h                                   # Cross-sectional area of the flow [m^2]\n",
    "Rh=A/P                                  # Hydraulic radius = Area / Wetted Perimeter [m]\n",
    "V=1/n*Rh**(2/3)*S**(1/2)                # Flow velocity based on Manning's equation [m/s]\n",
    "\n",
    "print(round(V,1))"
   ]
  },
  {
   "cell_type": "markdown",
   "metadata": {},
   "source": [
    "Now, keep the Manning coefficient set to 0.03 in the code block below but decrease the slope ($S$) from 0.01 to 0.002 and run the code with this updated value. You should see the flow velocity is lower than before, which intuitively makes sense. All else being equal, a lower slope should lead to a lower flow velocity."
   ]
  },
  {
   "cell_type": "code",
   "execution_count": null,
   "metadata": {},
   "outputs": [],
   "source": [
    "b=5                                     # Channel bottom width [m]\n",
    "h=1                                     # Channel height [m]\n",
    "n=0.03                                  # Manning coefficient\n",
    "S=0.01                                  # Channel slope [-]\n",
    "\n",
    "P=b+2*h                                 # Wetted perimeter [m]\n",
    "A=b*h                                   # Cross-sectional area of the flow [m^2]\n",
    "Rh=A/P                                  # Hydraulic radius = Area / Wetted Perimeter [m]\n",
    "V=1/n*Rh**(2/3)*S**(1/2)                # Flow velocity based on Manning's equation [m/s]\n",
    "\n",
    "print(round(V,1))"
   ]
  },
  {
   "cell_type": "markdown",
   "metadata": {
    "collapsed": true
   },
   "source": [
    "### Returning to the Main Objective: Incision of White Branch Creek\n",
    "\n",
    "Now that we are comfortable with Manning's equation and the use of code cells to make computations, we can return to our main problem of determining how White Branch Creek was formed. Was it formed as a result of a small number of glacial outburst floods or was it formed due to annual snow melt events that produce modest amounts of runoff? To accomplish this goal, we need a way to estimate the amount of erosion that would result from a glacial lake outburst flood and the amount of erosion that would result from annual snow melt runoff. \n",
    "\n",
    "Erosion rates are sometimes quantified as a function of water discharge, which is defined as the volume of water that passes through a cross section of the channel in a given unit of time. Greater discharge leads to a higher erosion rate, but the specifics are far more complicated. Luckilly, Sweeney and Roering (2016) have done this hard work for us and have determined how erosion rate increases with increasing discharge at White Branch Creek. The figure below shows the relationship between discharge and erosion rate at our study site. So, our job is to estimate the discharge associated with a glacial lake outburst flood and the discharge associated with an annual snow melt runoff event. Then, we can use the plot below to estimate the erosion rate associated with each scenario.\n",
    "\n",
    "<img src=\"WhiteBranch_Q_E.png\" alt=\"Drawing\"/>\n"
   ]
  },
  {
   "cell_type": "markdown",
   "metadata": {},
   "source": [
    "### Estimating the discharge associated with a glacial lake outburst flood\n",
    "\n",
    "The figure below shows a transect that runs through White Branch Creek. The deepest part of the creek is located at a distance of 15 meters from the start of the transect. The width of the creek, defined from one its banks to the other, is approximately 16.25 meters. We can apprximate the geometry of the channel cross section as a triangle, like the one shown in blue below. During a glacial lake outburst flood, we assume that the channel is completely filled with water. We are going to compute the water discharge under these \"bank full\" conditions. In other words, we will determine the volume of water that would pass through this channel cross section in one second."
   ]
  },
  {
   "cell_type": "markdown",
   "metadata": {
    "collapsed": true
   },
   "source": [
    "<img src=\"AnnotatedCrossSection_outburst.png\" alt=\"Drawing\"/>"
   ]
  },
  {
   "cell_type": "markdown",
   "metadata": {},
   "source": [
    "### Estimate the discharge associated with a glacial lake outburst flood\n",
    "Just like we did earlier, we can determine the velocity associated with a particular depth of flow within a channel using Manning's equation and the information we know about the channel geometry. However, our computations were simplified before because we assumed that our channel had a rectangular geometry. It is slightly more difficult to determine the wetted perimeter, cross-sectional area, and hydraulic radius for a triangular channel, which is what we have in this situation.\n",
    "\n",
    "The wetted perimeter ($P$) of a triangular channel with a top width of $w$ and a flow depth of $h$ is given by\n",
    "\n",
    "$$P=2h\\left(1+\\left(\\frac{w}{2h}\\right)^2\\right)^{1/2}$$\n",
    "\n",
    "The cross sectional area of the flow in the channel is given by \n",
    "\n",
    "$$A=\\frac{1}{2}wh$$\n",
    "\n",
    "And, as always, the hydraulic radius is computed as \n",
    "\n",
    "$$R_h=A/P$$\n",
    "\n",
    "Examine the code cell below. **Notice that the necessary equations have been coded for you. All you need to do is insert the correct values for $w$ and $h$ based on the channel geometry in the figure above. Once you have defined $w$ and $h$ correctly, run the code.** If it executes correctly you should see that the output tells you the flow velocity and flow discharge. Discharge ($Q$) is computed as the product of flow velocity (found from Manning's equation) and the cross sectional area of the flow,\n",
    "\n",
    "$$Q=AV$$\n"
   ]
  },
  {
   "cell_type": "code",
   "execution_count": null,
   "metadata": {},
   "outputs": [],
   "source": [
    "w=1                               # top width of the triangular channel (m)\n",
    "h=1                               # height of the triangular channel (m)                  \n",
    "\n",
    "# YOU DO NOT NEED TO MODIFY ANYTHING BELOW THIS POINT\n",
    "\n",
    "P=2*(h**2*(1+(0.5*w/h)**2))**(1/2)     # Wetted perimeter of the triangular channel (m)\n",
    "A=1/2*w*h                              # Flow area in the triangular channel (m^2)\n",
    "Rh=A/P                                 # Hydraulic radius of the channel (m)\n",
    "\n",
    "n=0.07                         # Manning roughness coefficient\n",
    "S=0.05                         # Channel slope (-)\n",
    "V=1/n*Rh**(2/3)*S**(1/2)       # Flow velocity (m/s)\n",
    "Q=A*V                          # Water discharge (m^3/s)\n",
    "\n",
    "print(round(V,1))               # Print the flow velocity (m/s)\n",
    "print(round(Q,1))               # Print the water discharge (m^3/s)"
   ]
  },
  {
   "cell_type": "markdown",
   "metadata": {},
   "source": [
    "### Estimate the discharge associated with a snow melt event\n",
    "\n",
    "You have now estimated the discharge from a glacial lake outburst flood. Now, we need to estimate the discharge from a snow melt event. During snow melt events, flows depths are roughly $0.5$ meters. The figure below shows the geometry of the flowing water within the channel under these circumstances.\n",
    "<img src=\"AnnotatedCrossSection_snowmelt2.png\" alt=\"Drawing\"/>\n",
    "The geometry of water flowing within the channel is no longer approximated well by a triangular cross section. Instead, we will use a trapezoidal cross section (blue lines) that appears to more accurately caputre the shape of the flowing water. **This is an important point - the effective channel geometry may change as a function of flow depth! When flows in White Branch creek are deep, the cross sectional geometry of the flowing water looks like a triangle but when flow depths are shallow the geometry is better approximated by a trapezoid.** Below, we use this information in combintation with Manning's equation to estimate the water discharge during a snow melt event."
   ]
  },
  {
   "cell_type": "markdown",
   "metadata": {},
   "source": [
    "### Performing the computation\n",
    "\n",
    "The code cell below will require modifcations. We have correctly defined the width of the base ($b=1.4$ m), the height of the water above the base of the channel ($h=0.5$ m), and the side slope lengths ($L=0.74$ m) of the trapezoidal channel based on the values shown in the figure above. Note that we computed the side slope lengths, $L$, using a little algebra and the pythagorean theorem. \n",
    "\n",
    "However, you will notice in the code cell below that the formulas for the wetted perimeter and cross sectional area are the same as the ones that we used above for a triangular channel. They will need to be modified to work for a trapezoidal channel. The wetted perimeter of a trapezoid-shaped channel with a bottom width of $b$, a flow depth of $h$, and channel side slopes of length $L$ is given by\n",
    "\n",
    "$$P=b+2L$$\n",
    "\n",
    "The equation for the cross sectional area of a trapezoidal channel is\n",
    "\n",
    "$$A=h\\frac{t+b}{2}$$\n",
    "\n",
    "Modify the code in the cell below according to the above formulas for $P$ and $A$ for a trapezoidal channel and then run the code to determine the flow discharge."
   ]
  },
  {
   "cell_type": "code",
   "execution_count": null,
   "metadata": {},
   "outputs": [],
   "source": [
    "t=2.5                               # top width of the trapezoidal channel (m)\n",
    "b=1.4                               # bottom width of the trapezoidal channel (m)\n",
    "h=0.5                               # height of the trapezoidal channel (m)     \n",
    "L=0.74                              # length of side slopes of channels (m)\n",
    "\n",
    "P=2*(h**2*(1+(0.5*w/h)**2))**(1/2)     # Wetted perimeter (m) -- YOU NEED TO MODIFY THIS EQUATION!!\n",
    "A=1/2*w*h                              # Flow area (m^2) -- YOU NEED TO MODIFY THIS EQUATION!!\n",
    "\n",
    "# YOU DO NOT NEED TO MODIFY ANYTHING BELOW THIS LINE\n",
    "Rh=A/P                              # Hydraulic radius of the channel (m)\n",
    "n=0.07                              # Manning roughness coefficient\n",
    "S=0.05                              # Channel slope (-)\n",
    "V=1/n*Rh**(2/3)*S**(1/2)              # Flow velocity (m/s)\n",
    "Q=A*V                               # Water discharge (m^3/s)\n",
    "\n",
    "print(round(V,1))               # Print the flow velocity (m/s)\n",
    "print(round(Q,1))               # Print the water discharge (m^3/s)"
   ]
  },
  {
   "cell_type": "markdown",
   "metadata": {},
   "source": [
    "### Computing erosion rates\n",
    "\n",
    "You now have an estimate for the water dischrge during a glacial lake outburst flood and a snow melt event. Next, we return to the figure below showing the relationship between discharge and erosion rate.\n",
    "<img src=\"WhiteBranch_Q_E.png\" alt=\"Drawing\"/>\n",
    "\n",
    "\n",
    "Based on a visual estimate from the plot above (don't worry about being super precise -- this is just an estimate), at what rate is the channel eroding during snow melt events? Insert your answer into the cell below."
   ]
  },
  {
   "cell_type": "markdown",
   "metadata": {},
   "source": [
    "DOUBLE CLICK HERE TO INSERT YOUR ANSWER (INCLUDE UNITS)"
   ]
  },
  {
   "cell_type": "markdown",
   "metadata": {},
   "source": [
    "Based on your best visual estimate from the plot above, at what rate is the channel eroding during a glacial lake outburst flood? Insert your answer into the cell below."
   ]
  },
  {
   "cell_type": "markdown",
   "metadata": {},
   "source": [
    "DOUBLE CLICK HERE TO INSERT YOUR ANSWER (INCLUDE UNITS)"
   ]
  },
  {
   "cell_type": "markdown",
   "metadata": {},
   "source": [
    "### Compute the amount of incision expected from annual snow melt events over 1600 years\n",
    "\n",
    "Note that the erosion rate in the above plot is given in m/year. So, we need to determine the number of \"years\" worth of erosion that has been done by annual snow melt events over a 1600 year period. Assume runoff from snow melt occurs once each year and lasts exactly one day. That means that, over the course of 1600 years, there have been the equivalent of 1600 continuous days worth of erosion from snow melt events. Dividing 1600 days by the number of days in a year, we estimate that snow melt events have been actively eroding the channel for a total of 4.4 years out of the last 1600 years. Thus, to obtain a total erosion depth resulting from this 4.4 years worth of erosion, we multiply 4.4 years by the erosion rate associated with snow melt runoff events. How much erosion has occured at White Branch Creek during the last 1600 years due to the combined effects of all of the snow melt runoff events?"
   ]
  },
  {
   "cell_type": "markdown",
   "metadata": {
    "collapsed": true
   },
   "source": [
    "DOUBLE CLICK HERE TO INSERT YOUR ANSWER (INCLUDE UNITS)"
   ]
  },
  {
   "cell_type": "markdown",
   "metadata": {},
   "source": [
    "### Compute the amount of incision expected from glacial lake outburst floods \n",
    "\n",
    "To compute the total amount of incision expected from glacial lake outburst floods, assume there were a total of 16 glacial lake outburst floods and that each of them lasted for exactly one day. Thus, over the last 1600 years there has been the equivalent of 16 days or approximately 0.04 years of continuous erosion during glacial lake outburst floods. Combine this time estimate with your erosion rate from above to determine the total amount of incision that White Branch Creek has experienced due to these glacial lake outburst floods. How much erosion has occured at White Branch Creek during the last 1600 years as a result of all of the glacial lake outburst floods?"
   ]
  },
  {
   "cell_type": "markdown",
   "metadata": {
    "collapsed": true
   },
   "source": [
    "DOUBLE CLICK HERE TO INSERT YOUR ANSWER (INCLUDE UNITS)"
   ]
  },
  {
   "cell_type": "markdown",
   "metadata": {},
   "source": [
    "### Conclusion\n",
    "Based on your analysis, which of the following two scenarios is more likely? Explain your answer (2-3 sentences should be sufficient).\n",
    "\n",
    "Scenario 1: White Branch Creek was incised by annual runoff events resulting from snow melt.\n",
    "\n",
    "Scenario 2: White Branch Creek was incised by large, infrequent glacial lake outburst floods."
   ]
  },
  {
   "cell_type": "markdown",
   "metadata": {
    "collapsed": true
   },
   "source": [
    "DOUBLE CLICK HERE TO INSERT YOUR ANSWER"
   ]
  }
 ],
 "metadata": {
  "kernelspec": {
   "display_name": "Python 3",
   "language": "python",
   "name": "python3"
  },
  "language_info": {
   "codemirror_mode": {
    "name": "ipython",
    "version": 3
   },
   "file_extension": ".py",
   "mimetype": "text/x-python",
   "name": "python",
   "nbconvert_exporter": "python",
   "pygments_lexer": "ipython3",
   "version": "3.7.0"
  }
 },
 "nbformat": 4,
 "nbformat_minor": 2
}
